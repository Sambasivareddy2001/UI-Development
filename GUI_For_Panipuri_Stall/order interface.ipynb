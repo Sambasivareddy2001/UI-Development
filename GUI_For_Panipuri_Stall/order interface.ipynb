{
 "cells": [
  {
   "cell_type": "code",
   "execution_count": 7,
   "id": "e1c87eb5",
   "metadata": {},
   "outputs": [
    {
     "name": "stdout",
     "output_type": "stream",
     "text": [
      "please enter your password for Mysql9494\n"
     ]
    }
   ],
   "source": [
    "import mysql.connector\n",
    "password1 = input(\"please enter your password for Mysql\")\n",
    "krishnadb = mysql.connector.connect(host = \"localhost\",user = \"root\",password = password1 ,database = \"sakila\")\n",
    "cursor = krishnadb.cursor()\n",
    "#cursor.execute('create database Krishna;')\n",
    "cursor.execute('use Krishna;')\n",
    "cursor.execute('create table if not exists Chaats(Name1 text not null,Paani_Puri int,Sev_Puri int,Dahi_Puri int);')"
   ]
  },
  {
   "cell_type": "code",
   "execution_count": 8,
   "id": "bf424621",
   "metadata": {},
   "outputs": [
    {
     "name": "stdout",
     "output_type": "stream",
     "text": [
      "please enter your password for Mysql9494\n"
     ]
    }
   ],
   "source": [
    "from tkinter import *\n",
    "from PIL import Image,ImageTk\n",
    "window = Tk()\n",
    "window.title(\"Krishna Chats\")\n",
    "window.geometry(\"400x200\")\n",
    "img = Image.open(r\"C:\\Users\\samba\\Downloads\\paani puri.png\")\n",
    "img_resize = img.resize((300,300))\n",
    "photo = ImageTk.PhotoImage(img_resize)\n",
    "txta = StringVar()\n",
    "txtc =IntVar()\n",
    "password1 = input(\"please enter your password for Mysql\")\n",
    "def view():\n",
    "    krishnadb = mysql.connector.connect(host = \"localhost\",user = \"root\",password = password1,database = \"Krishna\") # use your own password\n",
    "    cursor = krishnadb.cursor()\n",
    "    B = (str(E1.get()),)\n",
    "    cursor.execute('select * from Chaats where Name1 = %s',(B))\n",
    "    rows = cursor.fetchall()\n",
    "    krishnadb.commit()\n",
    "    for i in rows:\n",
    "        l1.insert(END,\"name\",i[0],\"Paani_Puri\",i[1],\"Sev_Puri\",i[2],\"Dahi_Puri\",i[3]) \n",
    "        \n",
    "def view2():\n",
    "    krishnadb = mysql.connector.connect(host = \"localhost\",user = \"root\",password = password1,database = \"Krishna\")\n",
    "    cursor = krishnadb.cursor()\n",
    "    cursor.execute('select * from Chaats')\n",
    "    rows = cursor.fetchall()\n",
    "    krishnadb.commit()\n",
    "    for i in rows:\n",
    "        l1.insert(END,\"name\",i[0],\"Paani_Puri\",i[1],\"Sev_Puri\",i[2],\"Dahi_Puri\",i[3])\n",
    "def Money():\n",
    "    krishnadb = mysql.connector.connect(host = \"localhost\",user = \"root\",password = password1,database = \"Krishna\") # use your own password\n",
    "    cursor = krishnadb.cursor()\n",
    "    B = (str(E1.get()),)\n",
    "    cursor.execute('select Name1,Paani_Puri*20,Sev_Puri*30,Dahi_Puri*40,sum(Paani_Puri*20+Sev_Puri*30+Dahi_Puri*40) from Chaats where Name1 = %s',(B))\n",
    "    rows = cursor.fetchall()\n",
    "    krishnadb.commit()\n",
    "    for i in rows:\n",
    "        l1.insert(END,\"name\",i[0],\"Paani_Puri\",i[1],\"Sev_Puri\",i[2],\"Dahi_Puri\",i[3],\"Total:\",i[4])\n",
    "        \n",
    "L1 = Label(window,text = \"Name of buyer to see detail of his/her order\")\n",
    "L1.grid(row = 0,column =0)\n",
    "E1 = Entry(window,bd =5)\n",
    "E1.grid(row = 0,column =1)\n",
    "B1 = Button(window,text = \"Detail of order\",command = lambda:view())\n",
    "B1.grid(row = 4,column =3)\n",
    "L6 = Label(window,text = \"please enter name of person to see his/her detail order\")\n",
    "L6.grid(row = 5,column =3)\n",
    "B1 = Button(window,text = \"All orders\",command = lambda:view2())\n",
    "B1.grid(row = 4,column =4)\n",
    "B1 = Button(window,text = \"Bill\",command = lambda:Money())\n",
    "B1.grid(row = 4,column =5)\n",
    "L7 = Label(window,text = \"Enter name to see bill\")\n",
    "L7.grid(row = 5,column =5)\n",
    "B5 = Button(window, text=\"Exit\", command=window.destroy)\n",
    "B5.grid(row = 4,column =6)\n",
    "l1 = Listbox(window,height = 10,width = 50)\n",
    "l1.grid(row =1,column =0)\n",
    "panel = Label(window,image = photo,height = 70)\n",
    "panel.grid(row =1,column =1)\n",
    "window.mainloop()"
   ]
  },
  {
   "cell_type": "code",
   "execution_count": null,
   "id": "3832c6f7",
   "metadata": {},
   "outputs": [],
   "source": []
  }
 ],
 "metadata": {
  "kernelspec": {
   "display_name": "Python 3 (ipykernel)",
   "language": "python",
   "name": "python3"
  },
  "language_info": {
   "codemirror_mode": {
    "name": "ipython",
    "version": 3
   },
   "file_extension": ".py",
   "mimetype": "text/x-python",
   "name": "python",
   "nbconvert_exporter": "python",
   "pygments_lexer": "ipython3",
   "version": "3.9.7"
  }
 },
 "nbformat": 4,
 "nbformat_minor": 5
}
