{
 "cells": [
  {
   "cell_type": "code",
   "execution_count": 1,
   "id": "dd363280",
   "metadata": {},
   "outputs": [],
   "source": [
    "from tkinter import *\n",
    "from PIL import Image,ImageTk"
   ]
  },
  {
   "cell_type": "code",
   "execution_count": 2,
   "id": "8acc7020",
   "metadata": {},
   "outputs": [
    {
     "name": "stdout",
     "output_type": "stream",
     "text": [
      "Requirement already satisfied: mysql-connector-python in c:\\users\\samba\\anaconda3\\lib\\site-packages (8.0.31)\n",
      "Requirement already satisfied: protobuf<=3.20.1,>=3.11.0 in c:\\users\\samba\\anaconda3\\lib\\site-packages (from mysql-connector-python) (3.20.1)\n",
      "Note: you may need to restart the kernel to use updated packages.\n"
     ]
    }
   ],
   "source": [
    "pip install mysql-connector-python"
   ]
  },
  {
   "cell_type": "code",
   "execution_count": null,
   "id": "2be617c3",
   "metadata": {},
   "outputs": [
    {
     "name": "stdout",
     "output_type": "stream",
     "text": [
      "please enter your password for Mysql9494\n"
     ]
    }
   ],
   "source": [
    "window = Toplevel()\n",
    "window.title(\"Hi HELLo WELCOME TO KRISHNA CHATS\")\n",
    "window.geometry(\"400x200\")\n",
    "load = Image.open(r\"C:\\Users\\samba\\Downloads\\paani puri.png\")\n",
    "render = ImageTk.PhotoImage(load)\n",
    "image =Label(window,image = render,height = 70)\n",
    "image.grid(row =1,column =1)\n",
    "import mysql.connector\n",
    "password1 = input(\"please enter your password for Mysql\")\n",
    "krishnadb = mysql.connector.connect(host = \"localhost\",user = \"root\",password = password1,database = \"sakila\")\n",
    "cursor = krishnadb.cursor()\n",
    "#cursor.execute('create database Krishna;')\n",
    "cursor.execute('use Krishna;')\n",
    "cursor.execute('create table if not exists Chaats(Name1 text not null,Paani_Puri int,Sev_Puri int,Dahi_Puri int);')\n",
    "txta = StringVar()\n",
    "txtc =IntVar()\n",
    "def Insert():\n",
    "    B = E1.get()\n",
    "    P = E2.get()\n",
    "    S = E3.get()\n",
    "    D = E4.get()\n",
    "    krishnadb = mysql.connector.connect(host = \"localhost\",user = \"root\",password = password1,database = \"Krishna\")\n",
    "    cursor = krishnadb.cursor()\n",
    "    sql =\"INSERT INTO Chaats(Name1,Paani_Puri,Sev_Puri,Dahi_Puri) VALUES(%s,%s,%s,%s)\"\n",
    "    val = (B,P,S,D)\n",
    "    cursor.execute(sql,val)\n",
    "    krishnadb.commit()\n",
    "def Menu1():\n",
    "    b = (\"Paani Puri - 20RS Per Plate\",\"Sev Puri - 30RS Per Plate\",\"Dahi Puri - 40RS Per Plate\")\n",
    "    l1 = Listbox(window,height = 4,width = 50)\n",
    "    l1.grid(row =0,column =0)\n",
    "    for i in b:\n",
    "        l1.insert(END,i)\n",
    "    \n",
    "menubar = Menu(window)\n",
    "filemenu = Menu(menubar)\n",
    "filemenu.add_command(label = \"Menu\",command = Menu1 )\n",
    "filemenu.add_separator()\n",
    "filemenu.add_command(label = \"Exit\",command = window.destroy)\n",
    "filemenu.add_separator()\n",
    "menubar.add_cascade(label = \"Krishna Chaats\",menu = filemenu)\n",
    "window.config(menu = menubar)\n",
    "L1 = Label(window,text = \"Name\")\n",
    "L1.grid(row = 0,column =0)\n",
    "L5 = Label(window,text = \"please enter how many orders like 1 or 2 for panipuri,items if no order then put 0 for that item\")\n",
    "L5.grid(row = 1,column =2)\n",
    "L2 = Label(window,text = \"panipuri\")\n",
    "L2.grid(row = 0,column =2)\n",
    "L3 = Label(window,text = \"sev puri\")\n",
    "L3.grid(row = 0,column =4)\n",
    "L4 = Label(window,text = \"dahi puri\")\n",
    "L4.grid(row = 0,column =6)\n",
    "B = Button(window,text = \"Add order\",command = lambda:Insert())\n",
    "B.grid(row = 4,column =2)\n",
    "E1 = Entry(window,bd =5)\n",
    "E1.grid(row = 0,column =1)\n",
    "E2 = Entry(window,bd =5)\n",
    "E2.grid(row = 0,column =3)\n",
    "E3 = Entry(window,bd =5)\n",
    "E3.grid(row = 0,column =5)\n",
    "E4 = Entry(window,bd =5)\n",
    "E4.grid(row = 0,column =7)\n",
    "B5 = Button(window, text=\"Exit\", command=window.destroy)\n",
    "B5.grid(row = 4,column =6)\n",
    "window.mainloop()"
   ]
  },
  {
   "cell_type": "code",
   "execution_count": null,
   "id": "358d6ee7",
   "metadata": {},
   "outputs": [],
   "source": []
  }
 ],
 "metadata": {
  "kernelspec": {
   "display_name": "Python 3 (ipykernel)",
   "language": "python",
   "name": "python3"
  },
  "language_info": {
   "codemirror_mode": {
    "name": "ipython",
    "version": 3
   },
   "file_extension": ".py",
   "mimetype": "text/x-python",
   "name": "python",
   "nbconvert_exporter": "python",
   "pygments_lexer": "ipython3",
   "version": "3.9.13"
  }
 },
 "nbformat": 4,
 "nbformat_minor": 5
}
