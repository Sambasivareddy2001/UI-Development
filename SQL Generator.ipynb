{
 "cells": [
  {
   "cell_type": "code",
   "execution_count": 21,
   "id": "89702b5c-891f-41c3-8d4b-e3607c8c41f6",
   "metadata": {},
   "outputs": [],
   "source": [
    "search_columns = {\n",
    "        \"state\": ['MAHARASHTRA', 'KERALA', 'PUNJAB', 'DELHI', 'ARUNACHAL PRADESH',\n",
    "       'UTTAR PRADESH', 'BIHAR', 'MADHYA PRADESH', 'JHARKHAND', 'HARYANA',\n",
    "       'RAJASTHAN', 'KARNATAKA', 'CHATTISGARH', 'FOREIGN SCHOOLS',\n",
    "       'ODISHA', 'WEST BENGAL', 'TELANGANA', 'TAMILNADU',\n",
    "       'JAMMU & KASHMIR', 'ANDHRA PRADESH', 'ANDAMAN & NICOBAR',\n",
    "       'GUJARAT', 'UTTARAKHAND', 'SIKKIM', 'ASSAM', 'CHANDIGARH',\n",
    "       'HIMACHAL PRADESH', 'TRIPURA', 'GOA', 'MIZORAM', 'MANIPUR',\n",
    "       'PUDUCHERRY', 'MEGHALAYA', 'LAKSHADWEEP', 'NAGALAND',\n",
    "       'DADAR & NAGAR HAVELI', 'DAMAN & DIU'],\n",
    "        \n",
    "        \"district\": ['JALGAON', 'KOZHIKODE', 'JULLUNDUR', 'PAPUMPARA', 'AGRA',\n",
    "       'PATNA', 'BHOPAL', 'BOKARO', 'SONEPAT', 'LATUR', 'ROPAR', 'KOLLAM',\n",
    "       'BANGALORE', 'GAUTAM BUDH NAGAR', 'DURG', 'RAISEN', 'BAHRAIN',\n",
    "       'BIKANER', 'MYSORE', 'DEORIA', 'KAITHAL', 'HYDERABAD',\n",
    "       'TIRUVANNAMALAI', 'JHUNJHUNU', 'BIJNOUR', 'JAMMU', 'VISAKHAPATNAM',\n",
    "       'MALAPPURAM', 'NEPAL', 'VADODARA (BARODA)', 'RUDRAPRAYAG',\n",
    "       'COIMBATORE', 'KOTA', 'DHUBRI', 'SONEBHADRA', 'SURAT', 'HARIDWAR',\n",
    "       'EAST DISTRICT', 'PERIYAR', 'KANPUR', 'EAST SINGHBHUM', 'GWALIOR',\n",
    "       'MOGA', 'CHANDRAPUR', 'NORTH WEST DELHI', 'HOSHANGABAD',\n",
    "       'SHOLAPUR', 'JAIPUR', 'VARANASI', 'NORTH EAST DELHI', 'KOTTAYAM',\n",
    "       'MANGALORE', 'NALGONDA', 'KARNAL', 'FARRUKHABAD', 'KORIYA',\n",
    "       'INDORE', 'WEST DELHI', 'UNNAO', 'NELLORE', 'VIDISHA',\n",
    "       'THIRUVANANTHAPURAM', 'UDHAM SINGH NAGAR', 'MIRZAPUR',\n",
    "       'NAWANSHAHR', 'KANNUR', 'JHARSUGUDA', 'GOPALGANJ', 'BHAGALPUR',\n",
    "       'RAMPUR', 'MOHALI', 'WARDHA', 'KOKRAJHAR', 'UNITED ARAB EMIRATES',\n",
    "       'MAHINDERGARH', 'JHANSI', 'REWA', 'MANSA', 'MATHURA', 'AMBALA',\n",
    "       'KHARGAON', 'MADHUBANI', 'BALIA', 'KANYAKUMARI', 'MANDI',\n",
    "       'YAMUNANAGAR', 'SARAN (CHAPRA)', 'GHAZIABAD', 'WEST GODAVARI',\n",
    "       'ALLAHABAD', 'SAUDI ARABIA', 'AMRITSAR', 'KHURDA', 'MORADABAD',\n",
    "       'DIBRUGARH', 'BAGHPAT', 'DEHRADUN', 'WEST DISTRICT', 'LEH',\n",
    "       'RANGAREDDY', 'ALIGARH', 'KANCHEEPURAM', 'DHARWAD', 'SONITPUR',\n",
    "       'MEERUT', 'GONDIYA', 'PUNE', 'BIJAPUR', 'CHANDAULI', 'GIRIDIH',\n",
    "       'RANCHI', 'FARIDKOT', 'THRISSUR', 'NAGPUR', 'HATHRAS', 'BELGAUM',\n",
    "       'TARANTARAN', 'LUCKNOW', 'MUZAFFARPUR', 'SEHORE', 'SOUTH TRIPURA',\n",
    "       'WAYANAD', 'EAST DELHI', 'DHANBAD', 'UDHAMPUR', 'NAINITAL',\n",
    "       'REWARI', 'CHITTORGARH', 'KOLAR', 'CALCUTTA', 'IDUKKI',\n",
    "       'SRI GANGANAGAR', 'DHAR', 'BHATINDA', 'FEROZEPUR', 'KAMRUP',\n",
    "       'AKBARPUR', 'PURNEA', 'HOSHIARPUR', 'SANT RAVIDAS NAGAR',\n",
    "       'HAMIRPUR', 'LUDHIANA', 'RAYAGADA', 'BELLARY', 'MORENA', 'NAGAON',\n",
    "       'PALWAL', 'BALOD', 'KURNOOL', 'LAKHIMPUR KHERI', 'ERNAKULAM',\n",
    "       'KURUKESHTRA', 'PATHANKOT', 'OSMANABAD', 'GULBARGA', 'BOLANGIR',\n",
    "       'GONDA', 'KUWAIT', 'GORAKHPUR', 'NORTH DELHI', 'CHITRADURGA',\n",
    "       'AHMEDABAD', 'AURANGABAD', 'GURDASPUR', 'MUZAFFARNAGAR',\n",
    "       'PALAKKAD', 'RAI BARELI', 'UDAIPUR', 'FATEHABAD', 'JABALPUR',\n",
    "       'SANGRUR', 'PATHANAMTHITTA', 'JIND', 'BULANDSHAHAR',\n",
    "       'SOUTH WEST DELHI', 'NORTH KANNADA', 'RAIGAD', 'HISSAR', 'BASTAR',\n",
    "       'KABRI ANGLONG', 'TUMKUR', 'GANJAM', 'HANUMANGARH', 'SALEM',\n",
    "       'CHAMOLI', 'ETAH', 'CHITTOOR', 'NORTH DISTRICT', 'BAGESHWAR',\n",
    "       'GANDHINAGAR', 'SOLAN', 'PORT BLAIR', 'ETAWAH', 'JALPAIGURI',\n",
    "       'MEHSANA', 'SHIVPURI', 'DEOGARH', 'IDDUKI', 'BHILWARA', 'BADWANI',\n",
    "       'RATLAM', 'CUDDAPAH', 'KANNOJ', 'DANTEWADA', 'BAREILLY', 'UDUPI',\n",
    "       'SULTANPUR', 'MAYURBHANJ', 'PATIALA', 'FARIDABAD', 'JAUNPUR',\n",
    "       'SANGLI', 'SAHARANPUR', 'ROHTAK', 'CHAMBA', 'GOLAGHAT',\n",
    "       'NARSIMHAPUR', 'VAISHALI (HAJIPUR)', 'CHANGLANG', 'WEST TRIPURA',\n",
    "       'PULWAMA', 'CHHINDWARA', 'GHAZIPUR', 'CHAMPARAN EAST', 'SIRMOUR',\n",
    "       'CHENNAI', 'GUNTUR', 'GOA (NORTH)', 'SURGUJA', 'DEWAS',\n",
    "       'SUNDARGARH', 'KASARGUD', 'PITHORAGARH', 'BARAMULLA', 'ALWAR',\n",
    "       'HAVERI', 'DUNGARPUR', 'RAJNANDGAON', 'KATNI',\n",
    "       'CH. SHAHUJI MAHARAJ NAGAR', 'CHHATARPUR', 'PALAMAU', 'EAST SIANG',\n",
    "       'KOLHAPUR', 'DARBHANGA', 'AZAMGARH', 'HAZARIBAGH', 'BALRAMPUR',\n",
    "       'PANCHKULA', 'VALSAD', 'HAILAKANDI', 'BAGALKOT', 'BHIWANI',\n",
    "       'MAHARAJGANJ', 'KALAHANDI', 'FATEHGARH', 'GURGAON', 'GUNA',\n",
    "       'PRAKASAM', 'SIRSA', 'SAGAR', 'CUTTACK', 'SAHAJANPUR', 'AIZAWAL',\n",
    "       'CHICKMAGALUR', 'THANE', 'MIDNAPUR', 'JHALAWAR', 'SOUTH DELHI',\n",
    "       'BUNDI', 'SAMASTIPUR', 'MUKTSAR', 'CHAMPARAN WEST', 'KAPURTHALA',\n",
    "       'DAVANGERE', 'MUMBAI', 'MAINPURI', 'ANANTNAG', 'KUTCH-BHUJ',\n",
    "       'SRIKAKULAM', 'FATEHPUR', 'KUSHI NAGAR', 'RAIPUR', 'SHIMOGA',\n",
    "       'DINDIGUL', 'ROHTAS', 'BEGUSARAI', 'NORTH 24-PARGANA', 'CACHAR',\n",
    "       'TEHRI-GARHWAL', 'SABARKANTHA/HIMMATNAGAR', 'JODHPUR', 'ALAPPUZHA',\n",
    "       'SHAHDOL', 'SARAIKELA KHARSN', 'PANIPAT', 'NANDURBAR', 'SIROHI',\n",
    "       'JAMTARA', 'COOCH BEHAR', 'ANGUL', 'NASIK', 'SHAJAPUR',\n",
    "       'CHANDIGARH(UT)', 'BILASPUR', 'SECUNDERABAD', 'BANSWARA',\n",
    "       'JHAJJAR', 'KULU', 'BIDAR', 'IMPHAL', 'ITANAGAR', 'PALI',\n",
    "       'KATIHAR', 'THANJAVUR', 'KORAPUT', 'KANGRA', 'AJMER', 'MAHOBA',\n",
    "       'NORTH ARCOT AMBEDKAR', 'PERAMBALUR', 'QATAR', 'JAMNAGAR',\n",
    "       'KHAMMAM', 'SOUTH DISTRICT', 'WARANGAL', 'AMRAVATI', 'SAHARSA',\n",
    "       'EAST GODAVARI', 'KODERMA', 'RAJKOT', 'SEONI', 'KARAIKAL',\n",
    "       'TIRUNELVELI', 'BURHANPUR', 'THOUBAL', 'BARGARH', 'FEROZABAD',\n",
    "       'KRISHNA', 'JYOTIBA PHULE NAGAR', 'SAMBALPUR', 'NALANDA', 'SATARA',\n",
    "       'ERODE', 'BHOJPUR', 'BARMER', 'PURULIA', 'N.C.HILLS', 'DAUSA',\n",
    "       'SIDHI', 'KHANDWA', 'CHENNAI CITY', 'NEW MUMBAI', 'PORBANDAR',\n",
    "       'GAYA', 'SHEOPUR', 'TONK', 'HOOGHLY', 'EAST KHASI HILLS',\n",
    "       'DHAMTARI', 'UPPER SUBANSIRI', 'SILIGURI', 'JAJPUR', 'PILIBHIT',\n",
    "       'LIBERIA', 'KODAGU', 'BASTI', 'BALAGHAT', 'CENTRAL DELHI',\n",
    "       'HARDOI', 'VIRUDH NAGAR', 'HARDA', 'ARARIA', 'RAJASMAND',\n",
    "       'GOALPARA', 'BHUJ', 'BURDWAN', 'PAURI GARHWAL', 'SOUTH 24-PARGANA',\n",
    "       'JHABUA', 'AMRELI', 'UJJAIN', 'TIRUCHIRAPALI', 'BETUL',\n",
    "       'ANANATPUR', 'MADHEPURA', 'YAVAT MAL', 'NUAPADA', 'MURSHIDABAD',\n",
    "       'VELLORE', 'KURUNG KUMEY', 'NAGAUR', 'DAMOH', 'TUENSANG', 'GADAG',\n",
    "       'BIRBHUM', 'BADAUN', 'BHARATPUR', 'NAWADAH', 'SIKAR', 'KANDHAMAL',\n",
    "       'BEED', 'WEST SIANG', 'MAHE', 'THIRUVALLUR', 'SIMLA',\n",
    "       'MAHBUBNAGAR', 'MAU', 'AHMEDNAGAR', 'RAMANATHAPURAM', 'KHEDA',\n",
    "       'KAIMUR', 'SIMDEGA', 'PANNA', 'BHARUCH', 'TINSUKHIA', 'CHURU',\n",
    "       'DHARMAPURI', 'NADIA', 'ANDAMAN', 'MANDYA', 'JAISALMER',\n",
    "       'KHAGARIA', 'SITAMARHI', 'DATIA', 'BUXAR', 'BANASKANTHA/PALANPUR',\n",
    "       'LAHAUL & SPITI', 'KHORDHA', 'UMARIA', 'BARAN', 'MEDAK', 'MEWAT',\n",
    "       'RAICHUR', 'BULDHANA', 'KEONJHAR', 'ANAND', 'VILLUPURAM',\n",
    "       'SANT KABIR NAGAR', 'EAST TRIPURA', 'NORTH DINAJPUR', 'FAIZABAD',\n",
    "       'LAKSHADWEEP', 'JANGIR-CHAMPA', 'BANKA', 'NAMAKKAL', 'BARABANKI',\n",
    "       'KARAULI', 'SHEIKHPURA', 'BONGAIGAON', 'PEREN', 'JATSINGHPUR',\n",
    "       'OMAN', 'KOPPAL', 'PURI', 'BAKSA', 'PONDICHERRY', 'JALAUN',\n",
    "       'BHADRAK', 'SAHIBGANJ', 'MALAYSIA', 'JASHPUR', 'MADURAI',\n",
    "       'DADAR & NAGAR HAVELI', 'LAKHIMPUR', 'CHENGALPATTU', 'ALMORA',\n",
    "       'HAPUR', 'SINGAPORE', 'NAVSARI', 'KHANNA', 'MUNGER', 'KAUSHAMBI',\n",
    "       'RAJGARH', 'TIKAMGARH', 'DHULE', 'WEST SINGHBHUM', 'CHATRA',\n",
    "       'PARTAPGARH', 'KAWARDHA', 'KARIMNAGAR', 'SINDHDURG',\n",
    "       'JAINTIA HILLS', 'THOOTHUKUDI', 'SATNA', 'GARHWA', 'SHRAVASTI',\n",
    "       'DIBANG VALLEY', 'BHADOHI', 'SOUTH KANNADA', 'CHURACHANDPUR',\n",
    "       'KATHUA', 'JUNAGARH', 'MALDA', 'PASUMPON-MUTHURAMALINGA T',\n",
    "       'KENDRAPARA', 'NEEMUCH', 'KUPWARA', 'NALBARI', 'JALNA', 'KARUR',\n",
    "       'MANDSAUR', 'NEW DELHI', 'SOUTH DINAJPUR', 'NIZAMABAD', 'SIBSAGAR',\n",
    "       'WEST KEMENG', 'AKOLA', 'TIRUNELVELI KATTABOMMAN', 'CUDDALORE',\n",
    "       'BHANDARA', 'DARRANG', 'SITAPUR', 'UPPER SIANG', 'CHITRAKOOT',\n",
    "       'KARIMGANJ', 'HASSAN', 'UNA', 'WEST GARO HILLS', 'KORBA',\n",
    "       'SINGHROULI', 'BARNALA', 'UKHRUL', 'TAWANG', 'NORTH TRIPURA',\n",
    "       'BHAVNAGAR', 'BAHRAICH', 'KANKER', 'UTTARKASHI', 'CHAMPAWAT',\n",
    "       'DARJEELING', 'GUMLA', 'NANDED', 'V.O.C.', 'SBS NAGAR', 'DINDORI',\n",
    "       'JAHANABAD', 'DIMAPUR', 'PARBHANI', 'RAIGARH', 'KISHANGANJ',\n",
    "       'BANDA', 'SRINAGAR', 'DHOLPUR', 'SIWAN', 'ANJAW', 'PHEK',\n",
    "       'SWAI MADHOPUR', 'GADCHIROLI', 'PUDUKOTTAI', 'LALITPUR', 'AURAIYA',\n",
    "       'DANG-AHWA', 'REPUBLIC OF BENIN', 'MAHASUMUND', 'NARNAUL',\n",
    "       'SONEPUR', 'HINGOLI', 'SURENDRANAGAR', 'MANDLA', 'VIZIANAGARAM',\n",
    "       'SENAPATI', 'HOWRAH', 'LATEHAR', 'GODDA', 'DHENKANAL', 'LOHIT',\n",
    "       'CITY GUWAHATI', 'SHAMLI', 'KRISHNAGIRI', 'ADILABAD', 'BANKURA',\n",
    "       'PAKUR', 'SUPAUL', 'ROORKEE', 'JORHAT', 'BALASORE', 'GOA (SOUTH)',\n",
    "       'LIBYA', 'SAMBHAL', 'KISHTWAR', 'JAMUI', 'ZUNHEBOTO', 'DURGAPUR',\n",
    "       'MORIGAON', 'KANSHI RAM NAGAR', 'WASHIM', 'ETHIOPIA',\n",
    "       'THE NILGIRIS', 'TIRAP', 'BHIND', 'RAJOURI', 'SURAJPUR',\n",
    "       'CHAMARAJA NAGAR', 'CHANDEL', 'JALLORE',\n",
    "       'VAIGAI VEERAN ALAGAMUTHU', 'DAMAN', 'EAST KEMENG', 'THAILAND',\n",
    "       'YEMEN', 'PUDUKKOTTAI', 'FAZILKA', 'KOHIMA', 'TANSANIA',\n",
    "       'LOWER SUBANSIRI', 'GAJAPATI', 'TAMENGLONG', 'DODA', 'SHERCHHIP',\n",
    "       'RATNAGIRI', 'HALDWANI', 'LAKHISARAI', 'PATAN', 'NAGAPATTINAM',\n",
    "       'NORTH ARCOT', 'PANCHMAHAL (GODHRA)', 'KARGIL', 'WOKHA',\n",
    "       'NAYAGARH', 'LUNGELI', 'BARPETA', 'SOUTH ARCOT', 'UGANDA',\n",
    "       'POONCH', 'SIDDHARTH NAGAR', 'VIJAYAWADA', 'MALKANGIRI',\n",
    "       'EAST GARO HILLS', 'MYANMAR', 'MOKOKCHUNG', 'DUMKA',\n",
    "       'P.T.T DISTRICT', 'RAMGARH', 'BANGLADESH', 'KINNAUR', 'DIU',\n",
    "       'BISHNUPUR', 'RI-BHOI', 'IRAN', 'DHEMAJI', 'DOHAD', 'MANIPUR EAST',\n",
    "       'NOWRANGPUR', 'JAPAN', 'BADGAM', 'BERHAMPUR', 'MANIPUR CENTRAL',\n",
    "       'SAMBA', 'NIGERIA', 'SURAT GARH', 'SHEOHAR', 'NARMADA', 'MON',\n",
    "       'INDONESIA', 'DEVBHUMI DWARKA', 'BOUDH', 'PADRAUNA',\n",
    "       'MANIPUR WEST', 'QUIDE MILLATH', 'ASANSOL', 'RUSSIA', 'LOHERDAGA',\n",
    "       'KIPHIRE', 'PHULBANI', 'KOLASIB', 'WEST KHASI HILLS', 'GHANA'],\n",
    "        \n",
    "        'region':['CHENNAI', 'TRIVANDRUM', 'PANCHKULA', 'DELHI', 'GUWAHATI',\n",
    "       'ALLAHABAD', 'PATNA', 'AJMER', 'DEHRADUN', 'BHUBANESWAR'],\n",
    "        \n",
    "        \"status\":['Middle Class', 'Senior Secondary', 'Secondary School'],\n",
    "        \n",
    "    }"
   ]
  },
  {
   "cell_type": "code",
   "execution_count": 35,
   "id": "a28234a9-d2f1-4628-bb8b-9f2584d24d1f",
   "metadata": {},
   "outputs": [],
   "source": [
    "user_input = \"MAHARA and CHENNAI\"\n",
    "keywords = [keyword.strip() for keyword in user_input.split(\"and\")]"
   ]
  },
  {
   "cell_type": "code",
   "execution_count": 31,
   "id": "a34e4ff9-bc52-44b6-b3bc-92fa64337acd",
   "metadata": {},
   "outputs": [
    {
     "data": {
      "text/plain": [
       "['MAHARASHTRA', 'CHENNAI']"
      ]
     },
     "execution_count": 31,
     "metadata": {},
     "output_type": "execute_result"
    }
   ],
   "source": [
    "keywords"
   ]
  },
  {
   "cell_type": "code",
   "execution_count": 75,
   "id": "5eebc46b-6e54-4e8b-a770-7fc051048137",
   "metadata": {},
   "outputs": [],
   "source": [
    "search_columns = {\n",
    "    column: [value.lower() for value in values]\n",
    "    for column, values in search_columns.items()\n",
    "}"
   ]
  },
  {
   "cell_type": "code",
   "execution_count": 32,
   "id": "f5d508be-bb76-45a4-9d22-870cb3315a33",
   "metadata": {},
   "outputs": [],
   "source": [
    "columns_to_filter = {}\n",
    "for keyword in keywords:\n",
    "    for column, values in search_columns.items():\n",
    "        if any(keyword.lower() in value.lower() for value in values):\n",
    "            if column not in columns_to_filter:\n",
    "                columns_to_filter[column] = []\n",
    "            columns_to_filter[column].append(keyword)\n"
   ]
  },
  {
   "cell_type": "code",
   "execution_count": 98,
   "id": "b3263590-ae38-433f-b12b-13130d7656cc",
   "metadata": {},
   "outputs": [],
   "source": [
    "#pip install rapidfuzz"
   ]
  },
  {
   "cell_type": "code",
   "execution_count": 120,
   "id": "675a9dd8-e967-45a5-a29e-3cbf7b7dec7e",
   "metadata": {},
   "outputs": [
    {
     "name": "stdout",
     "output_type": "stream",
     "text": [
      "['kerala', 'madhya pradesh', 'andhra pradesh']\n",
      "[]\n",
      "['trivandrum']\n",
      "[]\n"
     ]
    }
   ],
   "source": [
    "columns_to_filter = {}\n",
    "from rapidfuzz import process,fuzz\n",
    "def find_closest_matches(user_input2, data_list, threshold=85):\n",
    "    matches = process.extract(user_input2, data_list, scorer=fuzz.partial_ratio)\n",
    "    # Filter matches by threshold\n",
    "    return [match[0] for match in matches if match[1] >= threshold]\n",
    "columns_to_filter = {}\n",
    "for column, values in search_columns.items():\n",
    "    matches = find_closest_matches(user_input2, values)\n",
    "    print(matches)\n",
    "    if matches:\n",
    "        columns_to_filter[column] = matches"
   ]
  },
  {
   "cell_type": "code",
   "execution_count": 117,
   "id": "f74fb01d-a879-4e23-abf5-1febdbe4c5b1",
   "metadata": {},
   "outputs": [
    {
     "data": {
      "text/plain": [
       "[]"
      ]
     },
     "execution_count": 117,
     "metadata": {},
     "output_type": "execute_result"
    }
   ],
   "source": [
    "matches"
   ]
  },
  {
   "cell_type": "code",
   "execution_count": 121,
   "id": "8dba2680-dd25-4625-8365-a62279781ecb",
   "metadata": {},
   "outputs": [
    {
     "data": {
      "text/plain": [
       "{'state': ['kerala', 'madhya pradesh', 'andhra pradesh'],\n",
       " 'region': ['trivandrum']}"
      ]
     },
     "execution_count": 121,
     "metadata": {},
     "output_type": "execute_result"
    }
   ],
   "source": [
    "columns_to_filter"
   ]
  },
  {
   "cell_type": "code",
   "execution_count": 126,
   "id": "aec25d01-22da-47af-832a-934044993ca0",
   "metadata": {},
   "outputs": [
    {
     "data": {
      "text/plain": [
       "'number of files kerala and trivandru and madhya pradesh'"
      ]
     },
     "execution_count": 126,
     "metadata": {},
     "output_type": "execute_result"
    }
   ],
   "source": [
    "user_input1 = 'number of files KERALA and TRIVANdru and MADHYA PRADESH'\n",
    "#user_input1 = 'details of files KERALA and TRIVANdru and MADHYA PRADESH'\n",
    "\n",
    "user_input2 = user_input1.lower()\n",
    "user_input2"
   ]
  },
  {
   "cell_type": "code",
   "execution_count": 129,
   "id": "e6b7c3e5-c609-4993-8a24-36999379efbf",
   "metadata": {},
   "outputs": [
    {
     "data": {
      "text/plain": [
       "('andhra pradesh', 'trivandrum')"
      ]
     },
     "execution_count": 129,
     "metadata": {},
     "output_type": "execute_result"
    }
   ],
   "source": [
    "values = ['andhra pradesh','trivandrum']\n",
    "tuple(values)"
   ]
  },
  {
   "cell_type": "code",
   "execution_count": 144,
   "id": "2536b8e9-77e0-4833-8394-85c86fd8bf1e",
   "metadata": {},
   "outputs": [
    {
     "name": "stdout",
     "output_type": "stream",
     "text": [
      "SELECT state, region,count(*) as Files FROM your_table Where (state LIKE '%kerala%' OR state LIKE '%madhya pradesh%' OR state LIKE '%andhra pradesh%') AND (region LIKE '%trivandrum%') GROUP BY state, region\n"
     ]
    }
   ],
   "source": [
    "where_clauses = []\n",
    "group_by_columns = []\n",
    "for column, values in columns_to_filter.items():\n",
    "    conditions = \" OR \".join([f\"{column} LIKE '%{value}%'\" for value in values])\n",
    "    where_clauses.append(f\"({conditions})\")\n",
    "    if 'detail' in user_input2:\n",
    "        query = f\"SELECT * FROM your_table WHERE {' AND '.join(where_clauses)};\"\n",
    "    elif 'number' in user_input2:\n",
    "        group_by_columns.append(column)\n",
    "        query = f\"SELECT {', '.join(group_by_columns)},count(*) as Files FROM your_table Where {' AND '.join(where_clauses)} GROUP BY {', '.join(group_by_columns)}\"\n",
    "    else:\n",
    "        conditions = \" OR \".join([f\"{column} LIKE '%{value}%'\" for value in values])\n",
    "        where_clauses.append(f\"({conditions})\")\n",
    "        query = f\"SELECT * FROM your_table WHERE {' AND '.join(where_clauses)};\"\n",
    "print(query)"
   ]
  },
  {
   "cell_type": "code",
   "execution_count": null,
   "id": "32cdea22-12f4-4db6-9dc1-4683bd471a36",
   "metadata": {},
   "outputs": [],
   "source": []
  },
  {
   "cell_type": "code",
   "execution_count": null,
   "id": "70b6ba22-d59c-4678-bd82-fe8c47a0b0bb",
   "metadata": {},
   "outputs": [],
   "source": []
  },
  {
   "cell_type": "code",
   "execution_count": null,
   "id": "0afad823-6a13-4c2e-ae0d-124e54cd4936",
   "metadata": {},
   "outputs": [],
   "source": []
  },
  {
   "cell_type": "code",
   "execution_count": null,
   "id": "75f6adcb-3c49-4929-9631-438bed03930b",
   "metadata": {},
   "outputs": [],
   "source": []
  },
  {
   "cell_type": "code",
   "execution_count": 4,
   "id": "e50052f2-e0a3-4fbb-b4b4-34cd1246ae63",
   "metadata": {},
   "outputs": [
    {
     "name": "stderr",
     "output_type": "stream",
     "text": [
      "C:\\Users\\samba\\AppData\\Local\\Temp\\ipykernel_14144\\2778827787.py:1: DtypeWarning: Columns (6) have mixed types. Specify dtype option on import or set low_memory=False.\n",
      "  data = pd.read_csv(r\"C:\\Users\\samba\\Downloads\\schools_detailed\\schools_detailed.csv\")\n"
     ]
    }
   ],
   "source": [
    "data = pd.read_csv(r\"C:\\Users\\samba\\Downloads\\schools_detailed\\schools_detailed.csv\")"
   ]
  },
  {
   "cell_type": "code",
   "execution_count": 7,
   "id": "4534fb5a-c6a4-4164-93b8-d35e81c9829d",
   "metadata": {},
   "outputs": [
    {
     "data": {
      "text/plain": [
       "['name',\n",
       " 'aff_no',\n",
       " 'state',\n",
       " 'district',\n",
       " 'region',\n",
       " 'address',\n",
       " 'pincode',\n",
       " 'ph_no',\n",
       " 'off_ph_no',\n",
       " 'res_ph_no',\n",
       " 'fax_no',\n",
       " 'email',\n",
       " 'website',\n",
       " 'year_found',\n",
       " 'date_opened',\n",
       " 'princi_name',\n",
       " 'sex',\n",
       " 'princi_qual',\n",
       " 'princi_exp_adm',\n",
       " 'princi_exp_teach',\n",
       " 'status',\n",
       " 'aff_type',\n",
       " 'aff_start',\n",
       " 'aff_end',\n",
       " 'soc_name',\n",
       " 'l_nearest_railway',\n",
       " 'l_nearest_railway_dist',\n",
       " 'l_nearest_police',\n",
       " 'l_nearest_police_dist',\n",
       " 'l_nearest_bank',\n",
       " 'l_nearest_bank_dist',\n",
       " 'n_category',\n",
       " 'n_medium',\n",
       " 'n_school_type',\n",
       " 'e_nursery_sections',\n",
       " 'e_nursery_students',\n",
       " 'e_i_v_sections',\n",
       " 'e_i_v_students',\n",
       " 'e_vi_viii_sections',\n",
       " 'e_vi_viii_students',\n",
       " 'e_ix_x_sections',\n",
       " 'e_ix_x_students',\n",
       " 'e_xi_xii_sections',\n",
       " 'e_xi_xii_students',\n",
       " 'e_i_sections',\n",
       " 'e_i_students',\n",
       " 'e_ii_sections',\n",
       " 'e_ii_students',\n",
       " 'e_iii_sections',\n",
       " 'e_iii_students',\n",
       " 'e_iv_sections',\n",
       " 'e_iv_students',\n",
       " 'e_v_sections',\n",
       " 'e_v_students',\n",
       " 'e_vi_sections',\n",
       " 'e_vi_students',\n",
       " 'e_vii_sections',\n",
       " 'e_vii_students',\n",
       " 'e_viii_sections',\n",
       " 'e_viii_students',\n",
       " 'e_ix_sections',\n",
       " 'e_ix_students',\n",
       " 'e_x_sections',\n",
       " 'e_x_students',\n",
       " 'e_xi_sections',\n",
       " 'e_xi_students',\n",
       " 'e_xii_sections',\n",
       " 'e_xii_students',\n",
       " 'i_classrooms_no',\n",
       " 'i_classrooms_length',\n",
       " 'i_classrooms_breadth',\n",
       " 'i_composite_lab_no',\n",
       " 'i_composite_lab_length',\n",
       " 'i_composite_lab_breadth',\n",
       " 'i_phy_lab_no',\n",
       " 'i_phy_lab_length',\n",
       " 'i_phy_lab_breadth',\n",
       " 'i_chem_lab_no',\n",
       " 'i_chem_lab_length',\n",
       " 'i_chem_lab_breadth',\n",
       " 'i_bio_lab_no',\n",
       " 'i_bio_lab_length',\n",
       " 'i_bio_lab_breadth',\n",
       " 'i_biotech_lab_no',\n",
       " 'i_biotech_lab_length',\n",
       " 'i_biotech_lab_breadth',\n",
       " 'i_math_lab_no',\n",
       " 'i_math_lab_length',\n",
       " 'i_math_lab_breadth',\n",
       " 'i_cs_lab_no',\n",
       " 'i_cs_lab_length',\n",
       " 'i_cs_lab_breadth',\n",
       " 'i_home_lab_no',\n",
       " 'i_home_lab_length',\n",
       " 'i_home_lab_breadth',\n",
       " 'i_library_no',\n",
       " 'i_library_length',\n",
       " 'i_library_breadth',\n",
       " 'i_other_lab_no',\n",
       " 'i_other_lab_length',\n",
       " 'i_other_lab_breadth',\n",
       " 't_ntts_no',\n",
       " 't_ntts_trained',\n",
       " 't_ntts_untrained',\n",
       " 't_prts_no',\n",
       " 't_prts_trained',\n",
       " 't_prts_untrained',\n",
       " 't_tgts_no',\n",
       " 't_tgts_trained',\n",
       " 't_tgts_untrained',\n",
       " 't_librarians_no',\n",
       " 't_librarians_trained',\n",
       " 't_librarians_untrained',\n",
       " 't_ptis_no',\n",
       " 't_ptis_trained',\n",
       " 't_ptis_untrained',\n",
       " 't_pgts_no',\n",
       " 't_pgts_trained',\n",
       " 't_pgts_untrained',\n",
       " 't_exec_no',\n",
       " 't_exec_trained',\n",
       " 't_exec_untrained',\n",
       " 'p_area_meter',\n",
       " 'p_area_acre',\n",
       " 'p_area_builtup_meter',\n",
       " 'p_num_sites',\n",
       " 'p_area_playground',\n",
       " 'p_urinal_type',\n",
       " 'p_boys_urinal',\n",
       " 'p_girls_urinal',\n",
       " 'p_potable_water',\n",
       " 'p_health_cert',\n",
       " 'f_total_books',\n",
       " 'f_periodicals',\n",
       " 'f_dailies',\n",
       " 'f_reference_books',\n",
       " 'f_magazine',\n",
       " 'f_swimming_pool',\n",
       " 'f_indoor_games',\n",
       " 'f_dance_rooms',\n",
       " 'f_gym',\n",
       " 'f_music_rooms',\n",
       " 'f_hostel',\n",
       " 'f_health_checkup']"
      ]
     },
     "execution_count": 7,
     "metadata": {},
     "output_type": "execute_result"
    }
   ],
   "source": [
    "data.columns.to_list()"
   ]
  },
  {
   "cell_type": "code",
   "execution_count": 16,
   "id": "15cbecc7-7754-410d-9448-c1bcb37a7de3",
   "metadata": {},
   "outputs": [
    {
     "data": {
      "text/plain": [
       "array(['Middle Class', 'Senior Secondary', 'Secondary School'],\n",
       "      dtype=object)"
      ]
     },
     "execution_count": 16,
     "metadata": {},
     "output_type": "execute_result"
    }
   ],
   "source": [
    "data['status'].unique()"
   ]
  },
  {
   "cell_type": "code",
   "execution_count": 12,
   "id": "d2898d4e-f445-485f-bf77-d9be4386f500",
   "metadata": {},
   "outputs": [
    {
     "data": {
      "text/plain": [
       "Index(['name', 'state', 'district', 'region', 'address', 'pincode',\n",
       "       'off_ph_no', 'res_ph_no', 'fax_no', 'email', 'website', 'date_opened',\n",
       "       'princi_name', 'princi_qual', 'status', 'aff_type', 'aff_start',\n",
       "       'aff_end', 'soc_name', 'l_nearest_railway', 'l_nearest_police',\n",
       "       'l_nearest_bank', 'n_category', 'n_medium', 'n_school_type',\n",
       "       'p_num_sites', 'p_urinal_type', 'p_potable_water', 'p_health_cert',\n",
       "       'f_swimming_pool', 'f_indoor_games', 'f_dance_rooms', 'f_gym',\n",
       "       'f_music_rooms', 'f_hostel', 'f_health_checkup'],\n",
       "      dtype='object')"
      ]
     },
     "execution_count": 12,
     "metadata": {},
     "output_type": "execute_result"
    }
   ],
   "source": [
    "data.select_dtypes(exclude= (float,int)).columns"
   ]
  },
  {
   "cell_type": "code",
   "execution_count": null,
   "id": "dade4591-412f-4dd0-a1dc-6e40a9382762",
   "metadata": {},
   "outputs": [],
   "source": []
  }
 ],
 "metadata": {
  "kernelspec": {
   "display_name": "Python 3 (ipykernel)",
   "language": "python",
   "name": "python3"
  },
  "language_info": {
   "codemirror_mode": {
    "name": "ipython",
    "version": 3
   },
   "file_extension": ".py",
   "mimetype": "text/x-python",
   "name": "python",
   "nbconvert_exporter": "python",
   "pygments_lexer": "ipython3",
   "version": "3.12.7"
  }
 },
 "nbformat": 4,
 "nbformat_minor": 5
}
